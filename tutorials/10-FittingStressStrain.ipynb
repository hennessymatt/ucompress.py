{
 "cells": [
  {
   "cell_type": "markdown",
   "id": "33e0ec87-0288-4949-8564-af53eedbc39b",
   "metadata": {},
   "source": [
    "# Fitting stress-strain data\n",
    "\n",
    "This tutorial will cover how to\n",
    "\n",
    "* Fit stress-strain data\n",
    "* Fit stress-strain in hydrogel models at constant hydration\n",
    "\n",
    "**Currently, `ucompress.py` is only able to fit to stress-strain data associated with the instantaneous response of samples to a load**"
   ]
  },
  {
   "cell_type": "code",
   "execution_count": 1,
   "id": "5258c0c8-77fc-4a3d-9833-c371795268a3",
   "metadata": {},
   "outputs": [],
   "source": [
    "import ucompress as uc\n",
    "import numpy as np\n",
    "import matplotlib.pyplot as plt"
   ]
  },
  {
   "cell_type": "markdown",
   "id": "9097bdc6-6ec5-455c-bb2f-faa79ca47be8",
   "metadata": {},
   "source": [
    "## Preliminaries - Data generation\n",
    "\n",
    "In this section, we generate some synthetic data for a neo-Hookean poroelastic material.  This will be used to validate the fitting procedure."
   ]
  },
  {
   "cell_type": "code",
   "execution_count": 2,
   "id": "c17c0f87-3b14-4ab0-8af6-9011b950fe19",
   "metadata": {},
   "outputs": [],
   "source": [
    "# Define the parameter set and mechanical model\n",
    "pars = uc.parameters.example_parameters.NeoHookean(nondim = False)\n",
    "mech = uc.mechanics.NeoHookean()\n",
    "\n",
    "# update the Poisson's ratio\n",
    "pars.update('nu_m', 0.3)\n",
    "\n",
    "# Build the model\n",
    "model = uc.base_models.Poroelastic(mech, None, pars)"
   ]
  },
  {
   "cell_type": "markdown",
   "id": "d60d60cb-ef93-4ffa-9f42-ace21f9e80c0",
   "metadata": {},
   "source": [
    "We now calculate the stresses assuming an instantaneous response"
   ]
  },
  {
   "cell_type": "code",
   "execution_count": 3,
   "id": "650f46de-3b83-4cc6-9a12-bf9f8b03d5a0",
   "metadata": {},
   "outputs": [],
   "source": [
    "# Define stretches\n",
    "lam_z = np.linspace(0.5, 2, 25)\n",
    "lam_r = 1 / np.sqrt(lam_z)\n",
    "\n",
    "# Convert stretch to strain\n",
    "eps_z = lam_z - 1\n",
    "\n",
    "# Compute the elastic stress and pressure for an instantaneous response\n",
    "S_r, _, S_z = model.mechanics.eval_stress(lam_r, lam_z, lam_z)\n",
    "p = lam_r * S_r\n",
    "\n",
    "# Calculate the total PK1 stress\n",
    "S_z_total = S_z - lam_r**2 * p"
   ]
  },
  {
   "cell_type": "markdown",
   "id": "01601fe4-6032-4133-9bf3-a2d636121b6e",
   "metadata": {},
   "source": [
    "## Building data structures for fitting\n",
    "\n",
    "`ucompress.py' allows its models to be fit to data from multiple samples.  The data for each sample must be in contained in a dictionary with the following four keys:\n",
    "\n",
    "* `strain_data`: numerical/experimental data for the axial strain, where tensile strains are positive\n",
    "* `stress_data`: numerical/experimental data for the axial stress, where tension is positive\n",
    "* `model`: the model to be used for fitting\n",
    "* `pars`: the parameter set used for fitting\n",
    "\n",
    "In the code cell below, we create three synthetic data sets by adding various levels of noise to the total PK1 stress we numerically computed above:"
   ]
  },
  {
   "cell_type": "code",
   "execution_count": 4,
   "id": "c3d7dbc8-8291-4f53-ba63-1a72c28d0be9",
   "metadata": {},
   "outputs": [],
   "source": [
    "data_1 = {\n",
    "    'strain_data': eps_z,\n",
    "    'stress_data': S_z_total * (1 + 0.05 * np.random.random(lam_z.shape)),\n",
    "    'model': model,\n",
    "    'pars': pars\n",
    "}\n",
    "\n",
    "data_2 = {\n",
    "    'strain_data': eps_z,\n",
    "    'stress_data': S_z_total * (1 + 0.07 * np.random.random(lam_z.shape)),\n",
    "    'model': model,\n",
    "    'pars': pars\n",
    "}\n",
    "\n",
    "data_3 = {\n",
    "    'strain_data': eps_z,\n",
    "    'stress_data': S_z_total * (1 + 0.02 * np.random.random(lam_z.shape)),\n",
    "    'model': model,\n",
    "    'pars': pars\n",
    "}"
   ]
  },
  {
   "cell_type": "markdown",
   "id": "75f18041-0965-4652-8979-4caaa4a315d1",
   "metadata": {},
   "source": [
    "We now create a nested dictionary that holds all of these data sets as follows:"
   ]
  },
  {
   "cell_type": "code",
   "execution_count": 5,
   "id": "a77affcf-a1c6-4fe9-ba3e-fcfc54942575",
   "metadata": {},
   "outputs": [],
   "source": [
    "axial_data = {\n",
    "    'Sample 1': data_1,\n",
    "    'Sample 2': data_2,\n",
    "    'Sample 3': data_3\n",
    "}"
   ]
  },
  {
   "cell_type": "markdown",
   "id": "2ce4bd33-a441-4cf3-ba9e-60e1bb2b2766",
   "metadata": {},
   "source": [
    "This entire data set will now be used for fitting"
   ]
  },
  {
   "cell_type": "markdown",
   "id": "39c67f52-3abd-4e7d-ad3e-715d4935e0b6",
   "metadata": {},
   "source": [
    "## Fitting the data"
   ]
  },
  {
   "cell_type": "markdown",
   "id": "3c289afd-b7f7-4375-94fd-f92a589a30b8",
   "metadata": {},
   "source": [
    "In this example, we use data fitting to determine the Young's modulus of the matrix.\n",
    "\n",
    "The first set to fitting the data is to define a dictionary that defines the parameters to be determined by data fitting.  The keys of this dictionary are strings with the names of the parameters to be fit.  The corresponding dictionary values are the initial guess of what the parameter value.  \n",
    "\n",
    "In this example, we will assume that the initial value of the Young's modulus is 100 kPa."
   ]
  },
  {
   "cell_type": "code",
   "execution_count": 6,
   "id": "f26b8ff8-fd17-4885-8c2a-334bbc751daa",
   "metadata": {},
   "outputs": [],
   "source": [
    "# define the dict of fitting parameters and initial guesses\n",
    "fitting_params = {'E_m': 1e5}"
   ]
  },
  {
   "cell_type": "markdown",
   "id": "a854766b-6e7a-46ab-8081-fad1e420b79e",
   "metadata": {},
   "source": [
    "The `StressStrain` class from the `fitting` module can now be used to build an object to carry out the fitting:"
   ]
  },
  {
   "cell_type": "code",
   "execution_count": 7,
   "id": "196ca607-3435-4fd2-b9b3-44a57e0deb72",
   "metadata": {},
   "outputs": [],
   "source": [
    "fit = uc.fitting.StressStrain(axial_data)"
   ]
  },
  {
   "cell_type": "markdown",
   "id": "1bd569f2-134b-4f61-b49b-bd11fb0b1eb0",
   "metadata": {},
   "source": [
    "Now we call the `solve` method to do the fitting via SciPy's minimise function:"
   ]
  },
  {
   "cell_type": "code",
   "execution_count": 8,
   "id": "1c75cc57-2fd1-439f-a534-936c3357e186",
   "metadata": {},
   "outputs": [
    {
     "name": "stdout",
     "output_type": "stream",
     "text": [
      "----------------------\n",
      "Stress-strain fit\n",
      "Optimal parameters:\n",
      "E_m = 5.0969e+04\n"
     ]
    }
   ],
   "source": [
    "fitted_pars = fit.solve(fitting_params = fitting_params)"
   ]
  },
  {
   "cell_type": "markdown",
   "id": "e2539a8e-37cf-4578-b25b-2cc2f72206f8",
   "metadata": {},
   "source": [
    "The method returns a NumPy array with the fitted parameter values:"
   ]
  },
  {
   "cell_type": "code",
   "execution_count": 9,
   "id": "36265f83-4b3d-4f77-9e0f-66d49c18fb5d",
   "metadata": {},
   "outputs": [
    {
     "name": "stdout",
     "output_type": "stream",
     "text": [
      "[50969.42697342]\n"
     ]
    }
   ],
   "source": [
    "print(fitted_pars)"
   ]
  },
  {
   "cell_type": "markdown",
   "id": "d3467dab-fe47-4a84-bb90-7c428e8feb97",
   "metadata": {},
   "source": [
    "We now assign the new value of the Young's modulus to the parameter object, update the model, and compute the corresponding stress-strain curve:"
   ]
  },
  {
   "cell_type": "code",
   "execution_count": 10,
   "id": "695c132d-163b-45bc-8d57-58774bf3afc5",
   "metadata": {},
   "outputs": [],
   "source": [
    "# Update parameter object and assign to the model\n",
    "pars.update('E_m', fitted_pars[0])\n",
    "model.assign(pars)\n",
    "\n",
    "# compute new stress-strain curves\n",
    "S_r, _, S_z = model.mechanics.eval_stress(lam_r, lam_z, lam_z)\n",
    "p = lam_r * S_r\n",
    "\n",
    "# Calculate the total PK1 stress\n",
    "S_z_total = S_z - lam_r**2 * p"
   ]
  },
  {
   "cell_type": "markdown",
   "id": "ea255e9c-b0f5-4871-9d99-832469236713",
   "metadata": {},
   "source": [
    "Now we plot the fitted model and the synthetic data:"
   ]
  },
  {
   "cell_type": "code",
   "execution_count": 11,
   "id": "d11761a3-94c3-4545-9d02-264a8f038471",
   "metadata": {},
   "outputs": [
    {
     "data": {
      "image/png": "[encoded data removed]",
      "text/plain": [
       "<Figure size 640x480 with 1 Axes>"
      ]
     },
     "metadata": {},
     "output_type": "display_data"
    }
   ],
   "source": [
    "plt.plot(eps_z, S_z_total / 1e3, 'k', lw = 2, label = 'Model fit')\n",
    "plt.plot(data_1['strain_data'], data_2['stress_data'] / 1e3, 'o', label = 'Sample 1')\n",
    "plt.plot(data_2['strain_data'], data_1['stress_data'] / 1e3, 's', label = 'Sample 2')\n",
    "plt.plot(data_3['strain_data'], data_3['stress_data'] / 1e3, '^', label = 'Sample 3')\n",
    "plt.xlabel('Axial strain (mm/mm)')\n",
    "plt.ylabel('Axial stress (kPa)')\n",
    "plt.legend()\n",
    "plt.show()"
   ]
  },
  {
   "cell_type": "markdown",
   "id": "806e8785-59e4-4b60-a623-02d5a28918f7",
   "metadata": {},
   "source": [
    "### Improving performance of the optimisation solver\n",
    "\n",
    "The performance of the optimisation solver can be improved by using normalised values of the parameters.  An easy way to do this is to pass an list of values to normalise the parameters with to the `solve` method."
   ]
  },
  {
   "cell_type": "code",
   "execution_count": 12,
   "id": "1929fcc6-5adf-4aaf-8e28-41a7cc27e430",
   "metadata": {},
   "outputs": [
    {
     "name": "stdout",
     "output_type": "stream",
     "text": [
      "----------------------\n",
      "Stress-strain fit\n",
      "Optimal parameters:\n",
      "E_m = 5.0968e+04\n"
     ]
    }
   ],
   "source": [
    "# normalise the Young's modulus by 1e5\n",
    "normalisation_factor = [1e5]\n",
    "\n",
    "# solve the optimisation problem\n",
    "fitted_pars = fit.solve(\n",
    "    fitting_params = fitting_params, \n",
    "    normalisation_factors = normalisation_factor\n",
    ")"
   ]
  },
  {
   "cell_type": "markdown",
   "id": "92a688b6-ff57-4ace-b0cc-551c7a9f9943",
   "metadata": {},
   "source": [
    "## Fitting hydrogel models under constant hydration\n",
    "\n",
    "If fitting a hydrogel model to stress-strain data, it may be desirable to vary one or parameters while ensuring the initial degree of hydration remains constant.  This means that as the other parameters vary, the Flory parameter $\\chi$ is also automatically updated as well.  This is easily achieved by setting the `fixed_hydration` keyword argument to True when calling the `solve` method.\n",
    "\n",
    "To see this as an example, let's fit a neo-Hookean hydrogel model to the above data keeping the porosity of the hydrated state fixed at $\\phi_0 = 0.7$."
   ]
  },
  {
   "cell_type": "code",
   "execution_count": 13,
   "id": "8de2cc34-8687-4cad-8212-4184c07ae10b",
   "metadata": {},
   "outputs": [],
   "source": [
    "# define the model\n",
    "mech = uc.mechanics.NeoHookean()\n",
    "os = uc.osmosis.FloryHuggins()\n",
    "perm = None\n",
    "\n",
    "# define the parameters and update the porosity to 0.7 (fixed throughout the fitting)\n",
    "pars = uc.parameters.example_parameters.Hydrogel()\n",
    "pars.update('phi_0', 0.7)\n",
    "\n",
    "# create the model\n",
    "model = uc.base_models.Hydrogel(mech, perm, os, pars)"
   ]
  },
  {
   "cell_type": "markdown",
   "id": "ba34027a-6250-44fd-b840-00a2e23d160a",
   "metadata": {},
   "source": [
    "Now we create the new data set"
   ]
  },
  {
   "cell_type": "code",
   "execution_count": 14,
   "id": "ad69d407-bae7-4bba-a84f-01d5baed851c",
   "metadata": {},
   "outputs": [],
   "source": [
    "# dict with stress and strain data, and model and parameters\n",
    "data_1 = {\n",
    "    'strain_data': eps_z,\n",
    "    'stress_data': S_z_total * (1 + 0.05 * np.random.random(lam_z.shape)),\n",
    "    'model': model,\n",
    "    'pars': pars\n",
    "}\n",
    "\n",
    "# nested dict with data for all samples\n",
    "axial_data = {\n",
    "    'Sample 1': data_1,\n",
    "}"
   ]
  },
  {
   "cell_type": "markdown",
   "id": "790e94e2-8369-41c0-9ce4-0d61273e7656",
   "metadata": {},
   "source": [
    "Now we set up the fitting"
   ]
  },
  {
   "cell_type": "code",
   "execution_count": 15,
   "id": "d3063862-075c-435b-9ee1-eae423ab0ce5",
   "metadata": {},
   "outputs": [],
   "source": [
    "# define the dict of fitting parameters and initial guesses\n",
    "fitting_params = {'E_m': 1e5}\n",
    "\n",
    "# normalise the Young's modulus by 1e5\n",
    "normalisation_factor = [1e5]\n",
    "\n",
    "# define the StressStrain object\n",
    "fit = uc.fitting.StressStrain(axial_data)"
   ]
  },
  {
   "cell_type": "markdown",
   "id": "39d6263b-da33-4d8d-96a5-f5f1c308f296",
   "metadata": {},
   "source": [
    "Now we do the fitting, setting the `fixed_hydration` flag to True:"
   ]
  },
  {
   "cell_type": "code",
   "execution_count": 16,
   "id": "dbe1614f-7d65-4f4b-9a4c-7ac08a5100e6",
   "metadata": {},
   "outputs": [
    {
     "name": "stdout",
     "output_type": "stream",
     "text": [
      "----------------------\n",
      "Stress-strain fit\n",
      "chi = 0.6282\n",
      "chi = 0.6282\n",
      "chi = 0.6297\n",
      "chi = 0.6297\n",
      "chi = 0.6288\n",
      "chi = 0.6288\n",
      "chi = 0.6294\n",
      "chi = 0.6294\n",
      "chi = 0.6289\n",
      "chi = 0.6289\n",
      "chi = 0.6288\n",
      "chi = 0.6288\n",
      "chi = 0.6295\n",
      "chi = 0.6295\n",
      "chi = 0.6289\n",
      "chi = 0.6289\n",
      "chi = 0.6288\n",
      "chi = 0.6288\n",
      "chi = 0.6288\n",
      "chi = 0.6288\n",
      "chi = 0.6288\n",
      "chi = 0.6288\n",
      "Optimal parameters:\n",
      "E_m = 6.0120e+04\n"
     ]
    }
   ],
   "source": [
    "# solve the optimisation problem\n",
    "fitted_pars = fit.solve(\n",
    "    fitting_params = fitting_params, \n",
    "    normalisation_factors = normalisation_factor,\n",
    "    fixed_hydration = True\n",
    ")"
   ]
  },
  {
   "cell_type": "markdown",
   "id": "8ccd4fd7-156c-4eb6-97a1-a6f7d7a88a04",
   "metadata": {},
   "source": [
    "Here, we see that the optimal value of the Young's modulus is $62$ kPa and the corresponding value of the Flory parameter is $\\chi = 0.6288$."
   ]
  }
 ],
 "metadata": {
  "kernelspec": {
   "display_name": "Python 3 (ipykernel)",
   "language": "python",
   "name": "python3"
  },
  "language_info": {
   "codemirror_mode": {
    "name": "ipython",
    "version": 3
   },
   "file_extension": ".py",
   "mimetype": "text/x-python",
   "name": "python",
   "nbconvert_exporter": "python",
   "pygments_lexer": "ipython3",
   "version": "3.12.7"
  }
 },
 "nbformat": 4,
 "nbformat_minor": 5
}
