{
 "cells": [
  {
   "cell_type": "markdown",
   "id": "38fa354b",
   "metadata": {},
   "source": [
    "# Overview of `ucompress` models\n",
    "\n",
    "This notebook will:\n",
    "\n",
    "* Explain what a `ucompress` model is and how to build them\n",
    "* List the pre-defined models\n",
    "* Explain how to non-dimensionalise a parameter set\n",
    "\n",
    "## What is a `ucompress` model?\n",
    "\n",
    "In `ucompress`, a model is a Python object that contains information about the material to be simulated.  Currently, there are templates for two types of materials.  These are \n",
    "\n",
    "* **Poroelastic** - a class for poroelastic materials\n",
    "* **Hydrogel** - a class for hydrogels\n",
    "\n",
    "The difference between the two is that the hydrogel model accounts for osmotic effects.  A poroelastic model requires three components\n",
    "\n",
    "* **Mechanics** - describes the mechanical model the material\n",
    "* **Permeability** - describes the permeability of the material\n",
    "* **Parameters** - describes the material parameters\n",
    "\n",
    "A hydrogel model requires the same three components as a poroelastic model (see above), plus\n",
    "\n",
    "* **Osmosis** - describes the osmotic pressure\n",
    "\n",
    "From a programming perspective, a `ucompress` model has two main components.  The first is a symbolic, or mathematically exact, representation of the expressions used in the model, such as the stress-strain relations, permeability, and their derivatives.  The second component of the model is NumPy functions that have been created from the symbolic expressions, which are then used when computing numerical solutions of the model.  The rationale behind this approach is discussed in Tutorial 04.\n",
    "\n",
    "## Summary of implemented models\n",
    "\n",
    "The following models are implemented in `ucompress`:\n",
    "\n",
    "### Mechanics models\n",
    "\n",
    "* **NeoHookean** - a two-parameter neo-Hookean material\n",
    "* **FibreReinforced** - a neo-Hookean matrix, reinforced by a transversely isotropic fibre network\n",
    "* **FibreRecruitment** - a neo-Hookean matrix, reinforced by a tranversely isotropic fibre network that is not fully engaged (i.e. there is some slack in the initial network).\n",
    "\n",
    "The `FibreRecruitment` class has different models to describe how the fibre network tautens as it deforms.\n",
    "\n",
    "\n",
    "### Permeability models\n",
    "\n",
    "* **Constant** - a constant permeability\n",
    "* **KozenyCarman** - the classical Kozeny-Carmen permeability\n",
    "* **HolmesMow** - a permeability function proposed by Holmes & Mow\n",
    "\n",
    "### Osmosis models\n",
    "\n",
    "* **FloryHuggins** - the osmotic pressure derived from Flory-Huggins theory"
   ]
  },
  {
   "cell_type": "markdown",
   "id": "4dd47996-b0a8-4634-8151-bdfcc6e40328",
   "metadata": {},
   "source": [
    "## Parameters\n",
    "\n",
    "Several pre-defined parameter sets are included with `ucompress`:\n",
    "\n",
    "* **NeoHookean** - a parameter set for a poroelastic material with neo-Hookean elasticity\n",
    "* **Hydrogel** - a parameter set for a hydrogel with neo-Hookean elasticity and Flory-Huggins osmotic pressure\n",
    "* **FibreReinforced** - a parameter set for a fibre-reinforced neo-Hookean material\n",
    "* **FibreRecruitment** - a parameter set for a fibre-reinforced neo-Hookean material with slack in the fibre network"
   ]
  },
  {
   "cell_type": "markdown",
   "id": "0ae68f46-bbbb-4ae3-9cd6-f97c433d0f14",
   "metadata": {},
   "source": [
    "Parameter sets are stored as objects from the `Parameter` class, which splits the parameter set into two Python dictionaries.  The first dictionary is an attribute called `physical` that contains all of the physical parameters associated with the material or load.  The second dictionary is an attribute called `computational` that contains parameter sets associated with the simulation (e.g. space and time points).\n",
    "\n",
    "The parameter values can be printed to the screen using Python's `print` function"
   ]
  },
  {
   "cell_type": "code",
   "execution_count": 1,
   "id": "7e4e7d77-2b1f-46db-a81d-43f23e929818",
   "metadata": {},
   "outputs": [
    {
     "name": "stdout",
     "output_type": "stream",
     "text": [
      "Dimensional parameter values\n",
      "---------------------------------------\n",
      "R = 5.00e-03\n",
      "E_m = 5.00e+04\n",
      "nu_m = 0.00e+00\n",
      "k_0 = 2.00e-13\n",
      "phi_0 = 8.00e-01\n",
      "lam_z = 5.00e-01\n",
      "beta_r = 1.00e+00\n",
      "beta_z = 1.00e+00\n",
      "F = -1.00e+00\n",
      "t_start = 1.00e-01\n",
      "t_end = 1.00e+04\n",
      "\n",
      "Computational parameter values\n",
      "-----------------------------------------\n",
      "N = 40\n",
      "Nt = 200\n",
      "t_spacing = log\n",
      "\n"
     ]
    }
   ],
   "source": [
    "import ucompress as uc\n",
    "\n",
    "# Define the parameters\n",
    "pars = uc.parameters.example_parameters.NeoHookean()\n",
    "\n",
    "# Print values (in SI units)\n",
    "print(pars)"
   ]
  },
  {
   "cell_type": "markdown",
   "id": "7e9d5624-2278-44ee-85dd-f8b436d28c59",
   "metadata": {},
   "source": [
    "From this set, we see that the initial radius of the material is $R = 5$ mm, the Young's modulus is $E_m = 50$ kPa, the Poisson's ratio is $\\nu_m = 0$, tinitial permeability is $k_0 = 2 \\times 10^{-7}$ mm/Pa/s, the initial porosity is $\\phi_0 = 0.8$.  \n",
    "\n",
    "The axial strech is fixed at $\\lambda_z = 0.5$, corresponding to an imposed axial strain of $\\epsilon_z = 1 - \\lambda_z = 0.5$.  The value of the applied force is $F = -1$ N.  For displacement-controlled experiments in which $\\lambda_z$ is fixed, the value of the force $F$ defined in the parameters is not used.  For force-controlled experiments, the force is determined by $F$ and the axial stretch $\\lambda_z$ serves as an initial guess for the solution.\n",
    "\n",
    "The quantities $\\beta_r$ and $\\beta_z$ are pre-stretches; these are mainly used for hydrogel models to account for stretches due to hydration.  Setting their values to one means the matrix has not been pre-stretched so the elastic stress in the reference state is zero.\n",
    "\n",
    "The parameters $t_\\text{start}$ and $t_\\text{end}$ describe the start and end time of the experiment.  A non-zero value of $t_\\text{start}$ is needed because of the choice to use logarithmic spacing of the time variable.\n",
    "\n",
    "The computational parameters define the number of spatial grid point $N$, the number of time steps $N_t$, and the spacing of time points (linear or log)."
   ]
  },
  {
   "cell_type": "markdown",
   "id": "9ffbee31-1cfe-4640-aeae-7d6182763181",
   "metadata": {},
   "source": [
    "### Accessing parameter values"
   ]
  },
  {
   "cell_type": "markdown",
   "id": "ec4b929f-de7f-49bb-ae91-f85c4412e7a2",
   "metadata": {},
   "source": [
    "The `physical` and `computational` dictionaries are attributes of Parameter objects and can be accessed using dot notation.  For example, to access and then print the dictionary of physical parameter values, the following command can be used:"
   ]
  },
  {
   "cell_type": "code",
   "execution_count": 2,
   "id": "61c3b08d-b561-4c1b-aa59-5c53f29263c1",
   "metadata": {},
   "outputs": [
    {
     "name": "stdout",
     "output_type": "stream",
     "text": [
      "{'R': 0.005, 'E_m': 50000.0, 'nu_m': 0, 'k_0': 2e-13, 'phi_0': 0.8, 'lam_z': 0.5, 'beta_r': 1, 'beta_z': 1, 'F': -1, 't_start': 0.1, 't_end': 10000.0}\n"
     ]
    }
   ],
   "source": [
    "# print the dictionary of physical parameter values\n",
    "print(pars.physical)"
   ]
  },
  {
   "cell_type": "markdown",
   "id": "1ca1ac42-7b21-4041-8a9c-35b66b703287",
   "metadata": {},
   "source": [
    "Individual parameters can then be accessed using the dictionary keys:"
   ]
  },
  {
   "cell_type": "code",
   "execution_count": 3,
   "id": "64c74614-94cf-4efc-9864-c43d9437fbd1",
   "metadata": {},
   "outputs": [
    {
     "name": "stdout",
     "output_type": "stream",
     "text": [
      "0\n"
     ]
    }
   ],
   "source": [
    "# print the Poisson's ratio\n",
    "print(pars.physical['nu_m'])"
   ]
  },
  {
   "cell_type": "markdown",
   "id": "1541e5a5-2ddb-4542-adf0-0b8163bfc582",
   "metadata": {},
   "source": [
    "**Warning**: although parameter values can also be changed by directly editing the attributes/dictonaries of Parameter objects, the best way to change a parameter value is to use the `update` method, as explained in Tutorial 04."
   ]
  },
  {
   "cell_type": "markdown",
   "id": "ad55a396-d397-4ebb-a071-e6c595348465",
   "metadata": {},
   "source": [
    "### Non-dimensionalisation of parameters\n",
    "\n",
    "`ucompress` contains functionality for generating a non-dimensional parameter set from dimensional parameters.  Using non-dimensional parameters can improve the performance and speed of solvers.  \n",
    "\n",
    "All of the example parameter sets can be non-dimensionalised by passing setting the `nondim` argument to `True` when creating the parameter set:"
   ]
  },
  {
   "cell_type": "code",
   "execution_count": 4,
   "id": "e5238e09-57fb-4b2e-b937-bbd459ea5103",
   "metadata": {},
   "outputs": [
    {
     "name": "stdout",
     "output_type": "stream",
     "text": [
      "Dimensional parameter values\n",
      "---------------------------------------\n",
      "R = 5.00e-03\n",
      "E_m = 5.00e+04\n",
      "nu_m = 0.00e+00\n",
      "k_0 = 2.00e-13\n",
      "phi_0 = 8.00e-01\n",
      "lam_z = 5.00e-01\n",
      "beta_r = 1.00e+00\n",
      "beta_z = 1.00e+00\n",
      "F = -1.00e+00\n",
      "t_start = 1.00e-01\n",
      "t_end = 1.00e+04\n",
      "\n",
      "Non-dimensional parameter values\n",
      "-----------------------------------------\n",
      "R = 1.00e+00\n",
      "E_m = 1.00e+00\n",
      "nu_m = 0.00e+00\n",
      "k_0 = 1.00e+00\n",
      "phi_0 = 8.00e-01\n",
      "lam_z = 5.00e-01\n",
      "beta_r = 1.00e+00\n",
      "beta_z = 1.00e+00\n",
      "F = -8.00e-01\n",
      "t_start = 4.00e-05\n",
      "t_end = 4.00e+00\n",
      "\n",
      "Computational parameter values\n",
      "-----------------------------------------\n",
      "N = 40\n",
      "Nt = 200\n",
      "t_spacing = log\n",
      "\n"
     ]
    }
   ],
   "source": [
    "nondim_pars = uc.parameters.example_parameters.NeoHookean(nondim = True)\n",
    "print(nondim_pars)"
   ]
  },
  {
   "cell_type": "markdown",
   "id": "1ac75453-2666-4663-b2c5-485ef7a9826b",
   "metadata": {},
   "source": [
    "When non-dimensionalising a parameter set, a third attribute to the Parameter object will be created in order to store the original dimensional physical variables.  This new attribute is called `dimensional`.  The `physical` attribute is overwritten with the new non-dimensional physical varibles."
   ]
  },
  {
   "cell_type": "code",
   "execution_count": 5,
   "id": "fe9624b0-94ea-46fe-a328-80471c4dba67",
   "metadata": {},
   "outputs": [
    {
     "name": "stdout",
     "output_type": "stream",
     "text": [
      "{'R': 0.005, 'E_m': 50000.0, 'nu_m': 0, 'k_0': 2e-13, 'phi_0': 0.8, 'lam_z': 0.5, 'beta_r': 1, 'beta_z': 1, 'F': -1, 't_start': 0.1, 't_end': 10000.0}\n",
      "{'R': 1.0, 'E_m': 1.0, 'nu_m': 0, 'k_0': 1.0, 'phi_0': 0.8, 'lam_z': 0.5, 'beta_r': 1, 'beta_z': 1, 'F': -0.8, 't_start': 4e-05, 't_end': 4.0}\n"
     ]
    }
   ],
   "source": [
    "# print the new dimensional attribute\n",
    "print(nondim_pars.dimensional)\n",
    "\n",
    "# print the physical attribute\n",
    "print(nondim_pars.physical)"
   ]
  },
  {
   "cell_type": "markdown",
   "id": "1d988ea6-51f3-4bc3-b214-5badb5a1fdd4",
   "metadata": {},
   "source": [
    "## Examples\n",
    "\n",
    "In the first example, a model is defined for a poroelastic material with a neo-Hookean response.  An example parameter set for neo-Hookean poroelastic materials has been provided.  The Kozeny-Carmen permeability law will be used."
   ]
  },
  {
   "cell_type": "code",
   "execution_count": 6,
   "id": "72feede1",
   "metadata": {},
   "outputs": [],
   "source": [
    "import ucompress as uc\n",
    "\n",
    "# Define the parameters\n",
    "pars = uc.parameters.example_parameters.NeoHookean()\n",
    "\n",
    "# Define the mechanics\n",
    "mech = uc.mechanics.NeoHookean()\n",
    "\n",
    "# Define the permeability\n",
    "perm = uc.permeability.KozenyCarman()\n",
    "\n",
    "# Build the model\n",
    "model = uc.base_models.Poroelastic(mechanics = mech,\n",
    "                                   permeability = perm,\n",
    "                                   parameters = pars)"
   ]
  },
  {
   "cell_type": "markdown",
   "id": "f9f30bc7-6220-4f42-8b09-ddb84e8f9ac9",
   "metadata": {},
   "source": [
    "In the second example, we define a model for a fibre-reinforced hydrogel.  The fibre network is assumed to be fully engaged.  An example parameter set for this type of material has been provided too."
   ]
  },
  {
   "cell_type": "code",
   "execution_count": 7,
   "id": "9c481728-62dc-45a2-bbea-310e22fc846e",
   "metadata": {},
   "outputs": [],
   "source": [
    "# Define the parameters\n",
    "pars = uc.parameters.example_parameters.FibreReinforced()\n",
    "\n",
    "# Define the mechanics\n",
    "mech = uc.mechanics.FibreReinforced()\n",
    "\n",
    "# Define the permeability\n",
    "perm = uc.permeability.HolmesMow()\n",
    "\n",
    "# Define the osmotic model\n",
    "os = uc.osmosis.FloryHuggins()\n",
    "\n",
    "# Build the model\n",
    "model = uc.base_models.Hydrogel(mechanics = mech,\n",
    "                                permeability = perm,\n",
    "                                osmosis = os,\n",
    "                                parameters = pars)"
   ]
  }
 ],
 "metadata": {
  "kernelspec": {
   "display_name": "Python 3 (ipykernel)",
   "language": "python",
   "name": "python3"
  },
  "language_info": {
   "codemirror_mode": {
    "name": "ipython",
    "version": 3
   },
   "file_extension": ".py",
   "mimetype": "text/x-python",
   "name": "python",
   "nbconvert_exporter": "python",
   "pygments_lexer": "ipython3",
   "version": "3.12.7"
  }
 },
 "nbformat": 4,
 "nbformat_minor": 5
}
