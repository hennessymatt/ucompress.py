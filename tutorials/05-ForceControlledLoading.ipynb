{
 "cells": [
  {
   "cell_type": "markdown",
   "id": "74558401",
   "metadata": {},
   "source": [
    "# Force-controlled loading of a poroelastic material"
   ]
  },
  {
   "cell_type": "markdown",
   "id": "1b0c1f71",
   "metadata": {},
   "source": [
    "This notebook will cover:\n",
    "\n",
    "* Force-controlled experiments\n",
    "* Looping over model options"
   ]
  },
  {
   "cell_type": "code",
   "execution_count": 1,
   "id": "1b91f45a",
   "metadata": {},
   "outputs": [],
   "source": [
    "import ucompress as uc\n",
    "import matplotlib.pyplot as plt"
   ]
  },
  {
   "cell_type": "markdown",
   "id": "110879c5",
   "metadata": {},
   "source": [
    "To start, the parameter values and the model must be defined.  These are taken to be from the pre-defined`NeoHookean` parameter set "
   ]
  },
  {
   "cell_type": "markdown",
   "id": "c0154184-845c-40cd-9385-556b146d789b",
   "metadata": {},
   "source": [
    "## Setting up the problem\n",
    "\n",
    "Setting up and simulating a force-controlled unconfined compression experiment follows the same flow as for displacement-controlled experiments.  We first define the material, which is a neo-Hookean poroelastic material with constant permeability"
   ]
  },
  {
   "cell_type": "code",
   "execution_count": 2,
   "id": "56c8a333-a298-46df-bde2-a845260e97b7",
   "metadata": {},
   "outputs": [],
   "source": [
    "# Define the parameters\n",
    "pars = uc.parameters.example_parameters.NeoHookean()\n",
    "\n",
    "# Define the mechanics (stress-strain law)\n",
    "mech = uc.mechanics.NeoHookean()\n",
    "\n",
    "# Define the permeability\n",
    "perm = uc.permeability.Constant()\n",
    "\n",
    "# Build the model\n",
    "model = uc.base_models.Poroelastic(\n",
    "    mechanics = mech,\n",
    "    permeability = perm,\n",
    "    parameters = pars)"
   ]
  },
  {
   "cell_type": "markdown",
   "id": "cfb648e8-3e8b-410e-b872-2ce1e56dd2b8",
   "metadata": {},
   "source": [
    "When solving force-controlled problems, the value of the axial stretch $\\lambda_z$ in the parameters acts as the initial guess for the solver.  "
   ]
  },
  {
   "cell_type": "code",
   "execution_count": 3,
   "id": "4e148230-f430-4d3a-9894-691bab210f04",
   "metadata": {},
   "outputs": [
    {
     "name": "stdout",
     "output_type": "stream",
     "text": [
      "Dimensional parameter values\n",
      "---------------------------------------\n",
      "R = 5.00e-03\n",
      "E_m = 5.00e+04\n",
      "nu_m = 0.00e+00\n",
      "k_0 = 2.00e-13\n",
      "phi_0 = 8.00e-01\n",
      "lam_z = 5.00e-01\n",
      "beta_r = 1.00e+00\n",
      "beta_z = 1.00e+00\n",
      "F = -1.00e+00\n",
      "t_start = 1.00e-01\n",
      "t_end = 1.00e+04\n",
      "\n",
      "Computational parameter values\n",
      "-----------------------------------------\n",
      "N = 40\n",
      "Nt = 200\n",
      "t_spacing = log\n",
      "\n"
     ]
    }
   ],
   "source": [
    "print(pars)"
   ]
  },
  {
   "cell_type": "markdown",
   "id": "27a3ecc5-20a4-40fd-8f25-b2c0e3fd294e",
   "metadata": {},
   "source": [
    "Thus, the initial guess for the axial stretch is $\\lambda_z = 0.5$.\n",
    "\n",
    "The `ForceControlled` class from the `experiments` module is used to create a force-controlled experiment."
   ]
  },
  {
   "cell_type": "code",
   "execution_count": 4,
   "id": "cf9e1bfd",
   "metadata": {},
   "outputs": [],
   "source": [
    "problem = uc.experiments.ForceControlled(model, pars)"
   ]
  },
  {
   "cell_type": "markdown",
   "id": "783ee7c1",
   "metadata": {},
   "source": [
    "### Computing the instantaneous and equilibrium responses\n",
    "\n",
    "First, the initial (also called instantaneous) and equilibrium responses can be computed using the `initial_response` and `steady_response` methods"
   ]
  },
  {
   "cell_type": "code",
   "execution_count": 7,
   "id": "cbdcfede",
   "metadata": {},
   "outputs": [
    {
     "name": "stdout",
     "output_type": "stream",
     "text": [
      "Initial axial stretch is 0.86\n",
      "Equilibrium axial stretch is 0.78\n"
     ]
    }
   ],
   "source": [
    "# compute the initial response\n",
    "sol_instant = problem.initial_response()\n",
    "\n",
    "# print the force to the screen\n",
    "print(f'Initial axial stretch is {sol_instant.lam_z:.2f}')\n",
    "\n",
    "# compute the steady (equilibrium) response\n",
    "sol_steady = problem.steady_response()\n",
    "\n",
    "# print the force to the screen\n",
    "print(f'Equilibrium axial stretch is {sol_steady.lam_z:.2f}')"
   ]
  },
  {
   "cell_type": "markdown",
   "id": "25f612de",
   "metadata": {},
   "source": [
    "### Calculating the time-dependent response\n",
    "\n",
    "The time-dependent response to compression can be calculated by calling the `transient_response` method."
   ]
  },
  {
   "cell_type": "code",
   "execution_count": 6,
   "id": "54650d43",
   "metadata": {},
   "outputs": [
    {
     "name": "stdout",
     "output_type": "stream",
     "text": [
      "--------------------------------\n",
      "Transient step\n",
      "Solver converged\n",
      "Average number of Newton iterations per time step: 2.9\n"
     ]
    }
   ],
   "source": [
    "sol = problem.transient_response()"
   ]
  },
  {
   "cell_type": "markdown",
   "id": "172c8ac4",
   "metadata": {},
   "source": [
    "Having simulated the experiment, the force on the platten is plotted as a function of time.  We also plot the instantaneous and equilibrium forces too."
   ]
  },
  {
   "cell_type": "code",
   "execution_count": 8,
   "id": "d7082b56",
   "metadata": {},
   "outputs": [
    {
     "data": {
      "image/png": "[encoded data removed]",
      "text/plain": [
       "<Figure size 640x480 with 1 Axes>"
      ]
     },
     "metadata": {},
     "output_type": "display_data"
    }
   ],
   "source": [
    "plt.semilogx(sol.t, sol.lam_z, lw = 2)\n",
    "plt.hlines(sol_instant.lam_z, 1e-2, 1e2, lw = 1, color = 'k', linestyles='--')\n",
    "plt.hlines(sol_steady.lam_z, 1e2, 1e4, lw = 1, color = 'k', linestyles='-.')\n",
    "plt.xlabel('$t$ (s)')\n",
    "plt.ylabel(r'$\\lambda_z$')\n",
    "plt.show()"
   ]
  },
  {
   "cell_type": "markdown",
   "id": "585e7e8c-d904-42f1-a109-ee677c06e75e",
   "metadata": {},
   "source": [
    "## Exploring different permeability functions\n",
    "\n",
    "One of the features of `ucompress` is that it's easy to explore different model options.  In this example, we'll explore how changing the permeability model affects the results.  There are three permeability functions that are defined in `ucompress`:\n",
    "* Constant\n",
    "* Kozeny-Carmen\n",
    "* Holmes-Mow\n",
    "\n",
    "To use the Holmes-Mow law, we must define two additional parameters, $a$ and $M$, which control how the permeability changes with deformation.  We can add these parameters as follows:"
   ]
  },
  {
   "cell_type": "code",
   "execution_count": 9,
   "id": "95323e11-1fc5-428a-a3f5-5449918ce809",
   "metadata": {},
   "outputs": [],
   "source": [
    "pars.physical[\"a\"] = 1\n",
    "pars.physical[\"M\"] = 2"
   ]
  },
  {
   "cell_type": "markdown",
   "id": "7cd65258-f653-4a63-992d-3279fd2697db",
   "metadata": {},
   "source": [
    "We now loop over the different permeability functions and plot the results"
   ]
  },
  {
   "cell_type": "code",
   "execution_count": 10,
   "id": "cb6bf12c-6afa-4fb6-8e94-c018beb7cc21",
   "metadata": {},
   "outputs": [
    {
     "name": "stdout",
     "output_type": "stream",
     "text": [
      "=================================================\n",
      "Solving with Constant permeability\n",
      "--------------------------------\n",
      "Transient step\n",
      "Solver converged\n",
      "Average number of Newton iterations per time step: 2.9\n",
      "=================================================\n",
      "Solving with Kozeny-Carmen permeability\n",
      "--------------------------------\n",
      "Transient step\n",
      "Solver converged\n",
      "Average number of Newton iterations per time step: 3.0\n",
      "=================================================\n",
      "Solving with Holmes-Mow permeability\n",
      "--------------------------------\n",
      "Transient step\n",
      "Solver converged\n",
      "Average number of Newton iterations per time step: 3.0\n"
     ]
    },
    {
     "data": {
      "image/png": "[encoded data removed]",
      "text/plain": [
       "<Figure size 640x480 with 1 Axes>"
      ]
     },
     "metadata": {},
     "output_type": "display_data"
    }
   ],
   "source": [
    "# Define the mermeabilities\n",
    "permeabilities = [\n",
    "    uc.permeability.Constant(),\n",
    "    uc.permeability.KozenyCarman(),\n",
    "    uc.permeability.HolmesMow()\n",
    "]\n",
    "\n",
    "# Labels\n",
    "labels = ['Constant', 'Kozeny-Carmen', 'Holmes-Mow']\n",
    "\n",
    "# Loop\n",
    "for perm, l in zip(permeabilities, labels):\n",
    "\n",
    "    print('=================================================')\n",
    "    print(f'Solving with {l} permeability')\n",
    "\n",
    "    # Build model\n",
    "    model = uc.base_models.Poroelastic(\n",
    "        mechanics = mech,\n",
    "        permeability = perm,\n",
    "        parameters = pars)\n",
    "\n",
    "    # Set up experiment and solve\n",
    "    experiment = uc.experiments.ForceControlled(model, pars)\n",
    "    sol = experiment.transient_response()\n",
    "\n",
    "    # Plot\n",
    "    plt.semilogx(sol.t, \n",
    "                 sol.lam_z, \n",
    "                 lw = 2,\n",
    "                 label = l\n",
    "                )\n",
    "\n",
    "plt.legend()\n",
    "plt.xlabel('$t$ (s)')\n",
    "plt.ylabel(r'$\\lambda_z$')\n",
    "plt.show()"
   ]
  },
  {
   "cell_type": "markdown",
   "id": "e8eca889-4641-44cb-8684-27614003f7cf",
   "metadata": {},
   "source": [
    "Both the Kozeny-Karmen laws predict that the permeability decreases with deformation.  Thus, as fluid is removed from the system and the volume decreases, the permeability decreases, slowing the rate of poroelastic relaxation."
   ]
  }
 ],
 "metadata": {
  "kernelspec": {
   "display_name": "Python 3 (ipykernel)",
   "language": "python",
   "name": "python3"
  },
  "language_info": {
   "codemirror_mode": {
    "name": "ipython",
    "version": 3
   },
   "file_extension": ".py",
   "mimetype": "text/x-python",
   "name": "python",
   "nbconvert_exporter": "python",
   "pygments_lexer": "ipython3",
   "version": "3.12.7"
  }
 },
 "nbformat": 4,
 "nbformat_minor": 5
}
