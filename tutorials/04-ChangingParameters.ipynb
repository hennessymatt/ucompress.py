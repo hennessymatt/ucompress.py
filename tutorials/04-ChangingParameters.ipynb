{
 "cells": [
  {
   "cell_type": "markdown",
   "id": "d95a2b42-0af7-46f9-a016-846f4e232e77",
   "metadata": {},
   "source": [
    "# Changing parameter values\n",
    "\n",
    "This notebook will cover:\n",
    "* How to change dimensional and non-dimensional parameter values\n",
    "* How to assign new parameter sets to existing models\n",
    "* How to carry out parameter sweeps and compute stress-strain curves\n",
    "\n",
    "## Overview of approach\n",
    "\n",
    "Is it common to use modelling to predict the response of a material over a range of parameters.  In `ucompress.py`, models consist of symbolic (mathematically exact) expressions.  Parameter sets are then substituted into these symbolic expressions and the results are converted into NumPy functions.  The NumPy functions are called when simulating the model.  \n",
    "\n",
    "Calculating the symbolic representation of a model (\"building\" the model) can be slow.  Therefore, `ucompress.py` separates the processes of building the symbolic model and building NumPy expressions via substitution of parameter values.  Changing the parameters in a model generally consists of two steps: updating the parameter object, and then assigning these to a model.\n",
    "\n",
    "\n",
    "## Example 1 - Changing the Poisson's ratio\n",
    "\n",
    "In this example, we showcase how to change one of the parameters in an existing parameter set.  We focus on changing the Poisson's ratio of the matrix.  However, the same process can be used to change any other parameter.\n",
    "\n",
    "To get started, we load the parameter set of a standard neo-Hookean material and we print the value of the Poisson's ratio:"
   ]
  },
  {
   "cell_type": "code",
   "execution_count": 1,
   "id": "7d1b8dc6-5563-40e9-a7ed-84e376a892ea",
   "metadata": {},
   "outputs": [
    {
     "name": "stdout",
     "output_type": "stream",
     "text": [
      "The original Poisson's ratio is 0\n"
     ]
    }
   ],
   "source": [
    "import ucompress as uc\n",
    "import matplotlib.pyplot as plt\n",
    "import numpy as np\n",
    "\n",
    "pars = uc.parameters.example_parameters.NeoHookean(nondim = False)\n",
    "print(f'The original Poisson\\'s ratio is {pars.physical[\"nu_m\"]}')"
   ]
  },
  {
   "cell_type": "markdown",
   "id": "2a067206-ee56-42fc-ba4d-ef87a995f3ce",
   "metadata": {},
   "source": [
    "To change the value to $\\nu_m = 0.3$, we use the `update` method, which requires two arguments: (i) a string corresponding to the parameter to be updated and (ii) the new parameter value."
   ]
  },
  {
   "cell_type": "code",
   "execution_count": 2,
   "id": "d84c6c8a-9dcb-4a5f-bf2f-a602ca842e36",
   "metadata": {},
   "outputs": [
    {
     "name": "stdout",
     "output_type": "stream",
     "text": [
      "The new Poisson's ratio is 0.3\n"
     ]
    }
   ],
   "source": [
    "pars.update('nu_m', 0.3)\n",
    "print(f'The new Poisson\\'s ratio is {pars.physical[\"nu_m\"]}')"
   ]
  },
  {
   "cell_type": "markdown",
   "id": "e50c6fb5-130a-450f-83f8-3a57a97364b7",
   "metadata": {},
   "source": [
    "Any parameter that exists in the parameters object can be changed in this way.  To see a list of these parameters, type `print(pars)`.  The rest of the model can be built in the usual way:"
   ]
  },
  {
   "cell_type": "code",
   "execution_count": 3,
   "id": "920f2baa-43cd-4d02-8314-2778389fffd4",
   "metadata": {},
   "outputs": [
    {
     "name": "stdout",
     "output_type": "stream",
     "text": [
      "The instantaneous force is -5.3 N\n"
     ]
    }
   ],
   "source": [
    "# Define the parts of the model\n",
    "mech = uc.mechanics.NeoHookean()\n",
    "perm = uc.permeability.Constant()\n",
    "\n",
    "# Build the model (which also assigns the parameter values)\n",
    "model = uc.base_models.Poroelastic(mech, perm, pars)\n",
    "\n",
    "# Compute the instantaneous response of a displacement-controlled compression\n",
    "problem = uc.experiments.DisplacementControlled(model, pars)\n",
    "sol = problem.initial_response()\n",
    "\n",
    "print(f'The instantaneous force is {sol.F:.2} N')"
   ]
  },
  {
   "cell_type": "markdown",
   "id": "b83a4680-673a-410a-a9f8-ad1b041c55a4",
   "metadata": {},
   "source": [
    "Now we'll change the Poisson's ratio again and re-compute the instantaneous force.  The first thing we do is update the value of the Poisson's ratio:"
   ]
  },
  {
   "cell_type": "code",
   "execution_count": 4,
   "id": "8b5e319e-6ade-40dc-ba0d-cc41b9e3de7d",
   "metadata": {},
   "outputs": [
    {
     "name": "stdout",
     "output_type": "stream",
     "text": [
      "The new Poisson's ratio is 0.45\n"
     ]
    }
   ],
   "source": [
    "pars.update('nu_m', 0.45)\n",
    "print(f'The new Poisson\\'s ratio is {pars.physical[\"nu_m\"]}')"
   ]
  },
  {
   "cell_type": "markdown",
   "id": "172512a3-5181-4241-a616-1c26cc95972c",
   "metadata": {},
   "source": [
    "The next step is to assign the new parameter set to the existing model using the `assign` method."
   ]
  },
  {
   "cell_type": "code",
   "execution_count": 5,
   "id": "4cdce5c2-60a3-4450-aeea-992312a27367",
   "metadata": {},
   "outputs": [],
   "source": [
    "model.assign(pars)"
   ]
  },
  {
   "cell_type": "markdown",
   "id": "badbc1b0-b22f-43bc-9467-4868334baaee",
   "metadata": {},
   "source": [
    "Now we create a new displacement-controlled experiment and solve:"
   ]
  },
  {
   "cell_type": "code",
   "execution_count": 6,
   "id": "82b1edad-db45-429f-bacf-2f4a4d667637",
   "metadata": {},
   "outputs": [
    {
     "name": "stdout",
     "output_type": "stream",
     "text": [
      "The instantaneous force is -4.7 N\n"
     ]
    }
   ],
   "source": [
    "problem = uc.experiments.DisplacementControlled(model, pars)\n",
    "sol = problem.initial_response()\n",
    "\n",
    "print(f'The instantaneous force is {sol.F:.2} N')"
   ]
  },
  {
   "cell_type": "markdown",
   "id": "fd1abba0-c798-4600-b2ef-6ca9dc6dfab3",
   "metadata": {},
   "source": [
    "## Example 2 - Changing the applied force many times\n",
    "\n",
    "In this example, we want to compute the equilibrium response across a range of applied forces.  This can be done using a for loop and using the `update` and `assign` methods from Example 1.  Since the permeability is not needed when computing the equilibrium response, we do not need to define a model for it. Instead, we can assign the `None` keyword to the `perm` variable we usually use for the permeability model."
   ]
  },
  {
   "cell_type": "code",
   "execution_count": 7,
   "id": "c78da6f6-fc4c-4faf-836f-adbe59dd9ce3",
   "metadata": {},
   "outputs": [
    {
     "data": {
      "image/png": "[encoded data removed]",
      "text/plain": [
       "<Figure size 640x480 with 1 Axes>"
      ]
     },
     "metadata": {},
     "output_type": "display_data"
    }
   ],
   "source": [
    "# Define the forces\n",
    "forces = np.linspace(0, -2, 20)\n",
    "\n",
    "# Define the model\n",
    "pars = uc.parameters.example_parameters.NeoHookean(nondim = False)\n",
    "mech = uc.mechanics.NeoHookean()\n",
    "perm = None\n",
    "\n",
    "# Build the model w/ default parameters to be changed in the loop\n",
    "model = uc.base_models.Poroelastic(mech, perm, pars)\n",
    "\n",
    "for F in forces:\n",
    "\n",
    "    # Update parameter values\n",
    "    pars.update('F', F)\n",
    "\n",
    "    # Assign new parameters to model\n",
    "    model.assign(pars)\n",
    "\n",
    "    # Define experiment and solve\n",
    "    problem = uc.experiments.ForceControlled(model, pars)\n",
    "    sol = problem.steady_response()\n",
    "\n",
    "    plt.plot(F, sol.lam_z, 'ko')\n",
    "\n",
    "\n",
    "plt.xlabel('Force $F$ (N)')\n",
    "plt.ylabel(r'Axial stretch $\\lambda_z$ (-)')\n",
    "plt.show()"
   ]
  },
  {
   "cell_type": "markdown",
   "id": "4b456960-8cd6-49ba-9341-3339cb7699d3",
   "metadata": {},
   "source": [
    "## Example 3 - Changing parameters in a non-dimensional model\n",
    "\n",
    "In this example, we will look at how the Young's modulus of the neo-Hookean matrix impacts the time-dependent response of a sample under displacement-controlled loading.  Non-dimensional parameter values will be used in the simulation.  \n",
    "\n",
    "We first define the model:"
   ]
  },
  {
   "cell_type": "code",
   "execution_count": 8,
   "id": "a612fba9-8963-4bf7-bf23-8d2f9a1e9fe2",
   "metadata": {},
   "outputs": [],
   "source": [
    "# Define the parts of the model\n",
    "pars = uc.parameters.example_parameters.NeoHookean(nondim = True)\n",
    "mech = uc.mechanics.NeoHookean()\n",
    "perm = uc.permeability.Constant()\n",
    "\n",
    "# Build the model\n",
    "model = uc.base_models.Poroelastic(mech, perm, pars)"
   ]
  },
  {
   "cell_type": "markdown",
   "id": "27da54a9-0bac-4aed-9865-c0a8868809e5",
   "metadata": {},
   "source": [
    "The `update` and `assign` methods can still be used.  However, when using the `update` method, the new **dimensional** value of the parameter should passed as an argument.  The non-dimensionalisation of the new parameter set happens behind the scenes.  Afterwards, the `assign` method is used to substitute the updated parameter values, which will be non-dimensional, into the model.\n",
    "\n",
    "In the code below, a for loop is used to simulate the model over three different calues of the Young's modulus:"
   ]
  },
  {
   "cell_type": "code",
   "execution_count": 9,
   "id": "5b0ea854-2ac5-4026-b9ed-fcde30ef7aeb",
   "metadata": {},
   "outputs": [
    {
     "name": "stdout",
     "output_type": "stream",
     "text": [
      "--------------------------------\n",
      "Transient step\n",
      "Solver converged\n",
      "Average number of Newton iterations per time step: 2.1\n",
      "--------------------------------\n",
      "Transient step\n",
      "Solver converged\n",
      "Average number of Newton iterations per time step: 2.1\n",
      "--------------------------------\n",
      "Transient step\n",
      "Solver converged\n",
      "Average number of Newton iterations per time step: 2.1\n"
     ]
    },
    {
     "data": {
      "image/png": "[encoded data removed]",
      "text/plain": [
       "<Figure size 640x480 with 1 Axes>"
      ]
     },
     "metadata": {},
     "output_type": "display_data"
    }
   ],
   "source": [
    "# loop over Young's modulus values (dimensional values)\n",
    "for E_m in [1e4, 2e4, 3e4]:\n",
    "\n",
    "    # update parameter set with new dimensional values\n",
    "    pars.update('E_m', E_m)\n",
    "\n",
    "    # assign updated parameters to the model\n",
    "    model.assign(pars)\n",
    "\n",
    "    # create an experiment and solve\n",
    "    problem = uc.experiments.DisplacementControlled(model, pars)\n",
    "    sol = problem.transient_response()\n",
    "\n",
    "    # re-dimensionalise the solution\n",
    "    sol.redimensionalise(pars)\n",
    "    \n",
    "    # plot\n",
    "    plt.semilogx(sol.t, sol.F, lw = 2, label = f'$E_m = {E_m/1e3}$ kPa')\n",
    "\n",
    "plt.xlabel('$t$ (s)')\n",
    "plt.ylabel('$F$ (N)')\n",
    "plt.legend()\n",
    "plt.show()"
   ]
  }
 ],
 "metadata": {
  "kernelspec": {
   "display_name": "Python 3 (ipykernel)",
   "language": "python",
   "name": "python3"
  },
  "language_info": {
   "codemirror_mode": {
    "name": "ipython",
    "version": 3
   },
   "file_extension": ".py",
   "mimetype": "text/x-python",
   "name": "python",
   "nbconvert_exporter": "python",
   "pygments_lexer": "ipython3",
   "version": "3.12.7"
  }
 },
 "nbformat": 4,
 "nbformat_minor": 5
}
