{
 "cells": [
  {
   "cell_type": "markdown",
   "id": "84991fec",
   "metadata": {},
   "source": [
    "# Viewing and changing solver options\n",
    "\n",
    "This notebook will showcase:\n",
    "\n",
    "* How to view the solver options\n",
    "* How to change the solver options"
   ]
  },
  {
   "cell_type": "code",
   "execution_count": 1,
   "id": "3028ea49-c2a1-4c5a-b63d-ba4795da9a32",
   "metadata": {},
   "outputs": [],
   "source": [
    "import ucompress as uc\n",
    "import matplotlib.pyplot as plt"
   ]
  },
  {
   "cell_type": "markdown",
   "id": "72b0d0f7-f6f2-48bc-b17a-a52075a20c8f",
   "metadata": {},
   "source": [
    "## Motivation\n",
    "\n",
    "Due to the nonlinear nature of the governing equations, the solvers in `ucompress` are not guaranteed to converge.  The could be due to the tolerances in the solvers being too strict.  Alternatively, the user may wish to increase the tolerances to increase simulation speed or decrease them to ensure the equations are being accurately solved.\n",
    "\n",
    "As an example, let's consider the force-controlled compression of a fibre-reinforced material.  The force will be fixed at $F = -0.30$ Newtons:"
   ]
  },
  {
   "cell_type": "code",
   "execution_count": 2,
   "id": "d17d1d42-7eaa-4ae5-a655-52a20bdbffaf",
   "metadata": {},
   "outputs": [
    {
     "name": "stdout",
     "output_type": "stream",
     "text": [
      "--------------------------------\n",
      "Transient step\n",
      "Newton iterations did not converge at step 0 (t = 4.00e-06)\n"
     ]
    }
   ],
   "source": [
    "# Define parameters\n",
    "pars = uc.parameters.example_parameters.FibreRecruitment(nondim = True)\n",
    "pars.update('F', -0.38)\n",
    "\n",
    "# Define model properties\n",
    "mech = uc.mechanics.FibreRecruitment()\n",
    "perm = uc.permeability.Constant()\n",
    "\n",
    "# Build the model\n",
    "model = uc.base_models.Poroelastic(mech, perm, pars)\n",
    "\n",
    "# Attempt to solve the problem\n",
    "problem = uc.experiments.ForceControlled(model, pars)\n",
    "sol = problem.transient_response()"
   ]
  },
  {
   "cell_type": "markdown",
   "id": "be9ad33a-bc94-46b5-a22a-92f5ab1ba971",
   "metadata": {},
   "source": [
    "As we see, the nonlinear solver, which is based on Newton's method, did not converge at the first time step.  One way to remedy this situation is to increase the solver tolerances."
   ]
  },
  {
   "cell_type": "markdown",
   "id": "9aad3e9e-41e0-4850-ae90-7b3923dff966",
   "metadata": {},
   "source": [
    "## Viewing the solver options\n",
    "\n",
    "The default solver options are stored as a dictionary in an attribute in the `problem` object"
   ]
  },
  {
   "cell_type": "code",
   "execution_count": 3,
   "id": "80637a9b-75d0-41c6-868f-9f039b544e1d",
   "metadata": {},
   "outputs": [
    {
     "name": "stdout",
     "output_type": "stream",
     "text": [
      "{'jacobian': 'analytical', 'monitor_convergence': False, 'newton_max_iterations': 10, 'abs_tol': 1e-08, 'rel_tol': 1e-08, 'div_tol': 1e+20}\n"
     ]
    }
   ],
   "source": [
    "print(problem.solver_opts)"
   ]
  },
  {
   "cell_type": "markdown",
   "id": "6a74cb5f-186b-4d82-b709-cea99ffd095f",
   "metadata": {},
   "source": [
    "Here's a summary of the items in the dictionary:\n",
    "\n",
    "* **jacobian** (string) - can be set to either `analytical` or `numerical`.  This string determines whether the nonlinear solver uses an analytical or numerical Jacobian matrix in Newton iterations.  The numerical Jacobian matrix is computed using finite differences.\n",
    "* **monitor_convergence** (boolean) - can be True or False.  Flag that controls whether convergence information is printed to the screen during time stepping.\n",
    "* **newton_max_iterations** (int) - an integer that controls the maximum number of iterations in Newton's method.  If convergence is not reached after the maximum number of iterations, then the method is assumed to have not converged.\n",
    "* **abs_tol** (float) - sets the absolute residual error tolerance needed for convergence.  That is, convergence occurs if $|F_n| < \\text{abs\\_tol}$ where $F_n$ is the residual at the $n$-th Newton iteration.\n",
    "* **rel_tol** (float) - sets the relative residual error tolerance needed for convergence.  That is, convergence occurs if $|F_n| / |F_0| < \\text{rel\\_tol}$.\n",
    "* **div_tol** (float) - sets the absolute residual error that defines solver *divergence*.  The solver is assumed to have not converged to a solution if $|F_n| > \\text{div\\_tol}$."
   ]
  },
  {
   "cell_type": "markdown",
   "id": "fb1ebab6-d55d-47cc-b616-f135420f75be",
   "metadata": {},
   "source": [
    "## Changing the solver options\n",
    "\n",
    "There are two ways that the solver options can be changed.  The first is to overwrite the default entries in the `solver_opts` attribute.  In the example below, we turn on convergence monitoring to gain some insight into why the method is not converging:"
   ]
  },
  {
   "cell_type": "code",
   "execution_count": 4,
   "id": "37f4467d-4871-4cbf-b2cf-4b15b44f0dd0",
   "metadata": {},
   "outputs": [
    {
     "name": "stdout",
     "output_type": "stream",
     "text": [
      "--------------------------------\n",
      "Transient step\n",
      "----solving iteration 0----\n",
      "norm(F) = 1.5005e+01\n",
      "norm(F) = 3.4768e+00\n",
      "norm(F) = 1.1399e+00\n",
      "norm(F) = 3.0441e-01\n",
      "norm(F) = 7.9601e-02\n",
      "norm(F) = 2.3420e-02\n",
      "norm(F) = 1.1946e-02\n",
      "norm(F) = 7.7700e+00\n",
      "norm(F) = 1.9252e+00\n",
      "norm(F) = 4.8478e-01\n",
      "Newton iterations did not converge at step 0 (t = 4.00e-06)\n"
     ]
    }
   ],
   "source": [
    "# Change solver options\n",
    "problem.solver_opts['monitor_convergence'] = True\n",
    "\n",
    "# Attempt to re-solve\n",
    "sol = problem.transient_response()"
   ]
  },
  {
   "cell_type": "markdown",
   "id": "b15beef2-9310-411c-a180-289c51da41c1",
   "metadata": {},
   "source": [
    "We see that during the iterations, the relative norm of the residual decreases below $10^{-2}$.  Increasing the relative tolerance will prevent the solver from not converging (although the solution approximation may not be a good one):"
   ]
  },
  {
   "cell_type": "code",
   "execution_count": 5,
   "id": "0b928695-055b-493f-a768-59ac4da6b8f9",
   "metadata": {},
   "outputs": [
    {
     "name": "stdout",
     "output_type": "stream",
     "text": [
      "--------------------------------\n",
      "Transient step\n",
      "Solver converged\n",
      "Average number of Newton iterations per time step: 1.2\n"
     ]
    }
   ],
   "source": [
    "# Change solver options\n",
    "problem.solver_opts['monitor_convergence'] = False\n",
    "problem.solver_opts['rel_tol'] = 1e-2\n",
    "\n",
    "# Attempt to re-solve\n",
    "sol = problem.transient_response()"
   ]
  },
  {
   "cell_type": "markdown",
   "id": "997727da-f9dd-47bb-ba9b-3bf15c728cf6",
   "metadata": {},
   "source": [
    "We can plot the solution and see that it doesn't look too bad"
   ]
  },
  {
   "cell_type": "code",
   "execution_count": 6,
   "id": "c22e7fd4-f85b-4833-847c-0e5a62e92a28",
   "metadata": {},
   "outputs": [
    {
     "data": {
      "image/png": "[encoded data removed]",
      "text/plain": [
       "<Figure size 640x480 with 1 Axes>"
      ]
     },
     "metadata": {},
     "output_type": "display_data"
    }
   ],
   "source": [
    "# Re-dimensionalise the soln then plot\n",
    "sol.redimensionalise(pars)\n",
    "plt.semilogx(sol.t, sol.lam_z, lw = 2)\n",
    "plt.xlabel('Time (s)')\n",
    "plt.ylabel(r'$\\lambda_z$ (-)')\n",
    "plt.show()"
   ]
  },
  {
   "cell_type": "markdown",
   "id": "003f7e0b-ff59-4cd2-bbe6-dc0d9d59b0b4",
   "metadata": {},
   "source": [
    "One can also pass a dictionary with solver options to the `transient_response` method:"
   ]
  },
  {
   "cell_type": "code",
   "execution_count": 7,
   "id": "b83d6fac-23fd-40ba-9299-9c51150ae268",
   "metadata": {},
   "outputs": [
    {
     "name": "stdout",
     "output_type": "stream",
     "text": [
      "--------------------------------\n",
      "Transient step\n",
      "Solver converged\n",
      "Average number of Newton iterations per time step: 1.2\n"
     ]
    }
   ],
   "source": [
    "# Define the force-controlled experiment\n",
    "problem = uc.experiments.ForceControlled(model, pars)\n",
    "\n",
    "# Define custom solver options\n",
    "solver_opts = {\n",
    "    'jacobian': 'analytical',\n",
    "    'monitor_convergence': False,\n",
    "    'newton_max_iterations': 8,\n",
    "    'abs_tol': 1e-6,\n",
    "    'rel_tol': 1e-2,\n",
    "    'div_tol': 1e10\n",
    "}\n",
    "\n",
    "# Solve with custom solver options\n",
    "sol = problem.transient_response(solver_opts = solver_opts)"
   ]
  },
  {
   "cell_type": "markdown",
   "id": "a8ccd3b3-8ad8-4e5d-84a0-b0368e039f5d",
   "metadata": {},
   "source": [
    "## A warning\n",
    "\n",
    "Use caution when increasing the solver tolerances to avoid convergence issues.  Although there can be legitimate reasons to increase the solver tolerances, it does come with the risk of the governing equations not being satisfied.  Other approaches to overcoming convergence issues are changing the size of the time steps or changing the parameter values."
   ]
  }
 ],
 "metadata": {
  "kernelspec": {
   "display_name": "Python 3 (ipykernel)",
   "language": "python",
   "name": "python3"
  },
  "language_info": {
   "codemirror_mode": {
    "name": "ipython",
    "version": 3
   },
   "file_extension": ".py",
   "mimetype": "text/x-python",
   "name": "python",
   "nbconvert_exporter": "python",
   "pygments_lexer": "ipython3",
   "version": "3.12.7"
  }
 },
 "nbformat": 4,
 "nbformat_minor": 5
}
