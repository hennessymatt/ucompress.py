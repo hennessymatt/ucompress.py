{
 "cells": [
  {
   "cell_type": "markdown",
   "id": "74558401",
   "metadata": {},
   "source": [
    "# Non-dimensionalisation of parameter sets"
   ]
  },
  {
   "cell_type": "markdown",
   "id": "1b0c1f71",
   "metadata": {},
   "source": [
    "This notebook will cover:\n",
    "\n",
    "* Non-dimensionalisation of parameter sets\n",
    "* Re-dimensionalising solutions"
   ]
  },
  {
   "cell_type": "code",
   "execution_count": 1,
   "id": "1b91f45a",
   "metadata": {},
   "outputs": [],
   "source": [
    "import ucompress as uc\n",
    "import matplotlib.pyplot as plt"
   ]
  },
  {
   "cell_type": "markdown",
   "id": "a8051e78",
   "metadata": {},
   "source": [
    "## Simulations with non-dimensional parameters\n",
    "\n",
    "Using non-dimensional parameters can improve solver performance, leading to faster simulations.  All of the example parameter sets contain methods for non-dimensionalising them using the `nondim` argument"
   ]
  },
  {
   "cell_type": "code",
   "execution_count": 5,
   "id": "3662c41b-693f-420a-ac3f-03de6efd3f32",
   "metadata": {},
   "outputs": [],
   "source": [
    "pars = uc.parameters.example_parameters.NeoHookean(nondim = True)"
   ]
  },
  {
   "cell_type": "markdown",
   "id": "760efa69-a735-409a-98ca-38f4294ed28d",
   "metadata": {},
   "source": [
    "Printing the parameter object now shows information about the non-dimensional parameter set"
   ]
  },
  {
   "cell_type": "code",
   "execution_count": 6,
   "id": "f15b7cb4-557a-4ab4-97f3-788619ae117a",
   "metadata": {},
   "outputs": [
    {
     "name": "stdout",
     "output_type": "stream",
     "text": [
      "Dimensional parameter values\n",
      "---------------------------------------\n",
      "R = 5.00e-03\n",
      "E_m = 5.00e+04\n",
      "nu_m = 0.00e+00\n",
      "k_0 = 2.00e-13\n",
      "phi_0 = 8.00e-01\n",
      "lam_z = 5.00e-01\n",
      "beta_r = 1.00e+00\n",
      "beta_z = 1.00e+00\n",
      "F = -1.00e+00\n",
      "t_start = 1.00e-01\n",
      "t_end = 1.00e+04\n",
      "\n",
      "Non-dimensional parameter values\n",
      "-----------------------------------------\n",
      "R = 1.00e+00\n",
      "E_m = 1.00e+00\n",
      "nu_m = 0.00e+00\n",
      "k_0 = 1.00e+00\n",
      "phi_0 = 8.00e-01\n",
      "lam_z = 5.00e-01\n",
      "beta_r = 1.00e+00\n",
      "beta_z = 1.00e+00\n",
      "F = -8.00e-01\n",
      "t_start = 4.00e-05\n",
      "t_end = 4.00e+00\n",
      "\n",
      "Computational parameter values\n",
      "-----------------------------------------\n",
      "N = 40\n",
      "Nt = 200\n",
      "t_spacing = log\n",
      "\n"
     ]
    }
   ],
   "source": [
    "print(pars)"
   ]
  },
  {
   "cell_type": "markdown",
   "id": "d1d99045-f5e4-4d6e-a056-555aae65f0d6",
   "metadata": {},
   "source": [
    "We will now carry out a displacement-controlled experiment.  The material will be a neo-Hookean poroelastic material with constant permeability."
   ]
  },
  {
   "cell_type": "code",
   "execution_count": 8,
   "id": "16054d48-9a08-4739-a24b-f9097b25afdf",
   "metadata": {},
   "outputs": [],
   "source": [
    "mech = uc.mechanics.NeoHookean()\n",
    "perm = uc.permeability.Constant()"
   ]
  },
  {
   "cell_type": "markdown",
   "id": "573b61fc-a8a7-45c1-ad9d-3e8ceb765858",
   "metadata": {},
   "source": [
    "We can build a model using the same steps as in previous notebooks.  Once the model is defined, we run the simulation"
   ]
  },
  {
   "cell_type": "code",
   "execution_count": 16,
   "id": "965ec1b2-3357-4c2f-af78-2786d749e195",
   "metadata": {},
   "outputs": [
    {
     "name": "stdout",
     "output_type": "stream",
     "text": [
      "--------------------------------\n",
      "Transient step\n",
      "Solver converged\n",
      "Average number of Newton iterations per time step: 2.1\n"
     ]
    }
   ],
   "source": [
    "# Build the model\n",
    "model = uc.base_models.Poroelastic(mechanics = mech,\n",
    "                                   permeability = perm,\n",
    "                                   parameters = pars)\n",
    "\n",
    "# Define the experiment\n",
    "experiment = uc.experiments.DisplacementControlled(model, pars)\n",
    "\n",
    "# Solve\n",
    "sol = experiment.transient_response()"
   ]
  },
  {
   "cell_type": "markdown",
   "id": "194ca244-e40d-4bd3-bdae-d839f1dbb9f9",
   "metadata": {},
   "source": [
    "The solution can be re-dimensionalised using the `redimensionalise` method and passing the parameters object"
   ]
  },
  {
   "cell_type": "code",
   "execution_count": 17,
   "id": "1e0c3c9e-a3c2-475b-9124-b1b681e17edb",
   "metadata": {},
   "outputs": [],
   "source": [
    "# Re-dimensionalise the solution\n",
    "sol.redimensionalise(pars)"
   ]
  },
  {
   "cell_type": "markdown",
   "id": "552e7270-0cb0-4a78-a191-5c62993563c0",
   "metadata": {},
   "source": [
    "The solution can then be visualised as in Notebook 02.  Here, we plot the force as a function of time"
   ]
  },
  {
   "cell_type": "code",
   "execution_count": 19,
   "id": "a5b1d780-1da0-4838-92a3-dafcaf1dbff2",
   "metadata": {},
   "outputs": [
    {
     "data": {
      "image/png": "[encoded data removed]",
      "text/plain": [
       "<Figure size 640x480 with 1 Axes>"
      ]
     },
     "metadata": {},
     "output_type": "display_data"
    }
   ],
   "source": [
    "plt.semilogx(sol.t, sol.F, lw = 2)\n",
    "plt.xlabel('$t$ (s)')\n",
    "plt.ylabel('$F$ (N)')\n",
    "plt.show()"
   ]
  }
 ],
 "metadata": {
  "kernelspec": {
   "display_name": "Python 3 (ipykernel)",
   "language": "python",
   "name": "python3"
  },
  "language_info": {
   "codemirror_mode": {
    "name": "ipython",
    "version": 3
   },
   "file_extension": ".py",
   "mimetype": "text/x-python",
   "name": "python",
   "nbconvert_exporter": "python",
   "pygments_lexer": "ipython3",
   "version": "3.12.7"
  }
 },
 "nbformat": 4,
 "nbformat_minor": 5
}
