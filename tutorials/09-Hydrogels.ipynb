{
 "cells": [
  {
   "cell_type": "markdown",
   "id": "e5f68fdd-6419-435d-9d75-50f3ed4499e5",
   "metadata": {},
   "source": [
    "# Simulating hydrogel-based materials\n",
    "\n",
    "This tutorial will cover\n",
    "* Defining a hydrogel model and the osmotic pressure\n",
    "* Defining hydration experiments to compute freely swollen states\n",
    "* Running time-dependent simulations with hydrogels\n",
    "\n"
   ]
  },
  {
   "cell_type": "markdown",
   "id": "82e41124-70bf-47c1-8279-5619da3e6394",
   "metadata": {},
   "source": [
    "## Introduction\n",
    "\n",
    "Hydrogels are commonly used materials in biomedical applications.  Hydrogels differ from poroelastic materials in that there are strong molecular interactions between the interstitial fluid and the solid skeleton (which for a hydrogel is a polymer network).  These interactions lead to an osmotic pressure (or osmotic stress).  This osmotic pressure is responsible for a hydrogel absorbing fluid from its surrounding and swelling until chemical and mechanical equilibrium is established.  When fully swollen, the elastic stresses in a hydrogel will not be zero as the polymer network will have stretched out to accommodate new fluid.  "
   ]
  },
  {
   "cell_type": "code",
   "execution_count": 1,
   "id": "3441216e-8062-4c94-a86b-05a7d41c6d6f",
   "metadata": {},
   "outputs": [],
   "source": [
    "import ucompress as uc\n",
    "import matplotlib.pyplot as plt"
   ]
  },
  {
   "cell_type": "markdown",
   "id": "0c210d16-7c9d-48b1-a747-40e81e0c792b",
   "metadata": {},
   "source": [
    "## Example 1 - Defining a hydrogel material\n",
    "\n",
    "Defining a hydrogel material requires an extended parameter set compared to poroelastic materials.  There are two new parameters that need to be defined.  The first is the thermal stiffness $G_T = k_B T / V_m$, where $R_g$ is the universal gas constant, $T$ is temperature (in Kelvin), and $V_m$ is the molar volume of the fluid that swells the polymer matrix.  The second is the Flory interaction parameter $\\chi$.  There is an example parameter set for a hydrogel in which these parameters are defined (assuming water swells the hydrogel and the temperature is 23 C):"
   ]
  },
  {
   "cell_type": "code",
   "execution_count": 2,
   "id": "a196855e-c797-401f-81c1-000bfd1126ed",
   "metadata": {},
   "outputs": [
    {
     "name": "stdout",
     "output_type": "stream",
     "text": [
      "Dimensional parameter values\n",
      "---------------------------------------\n",
      "R = 5.00e-03\n",
      "E_m = 5.00e+04\n",
      "nu_m = 0.00e+00\n",
      "k_0 = 2.00e-13\n",
      "G_T = 1.37e+08\n",
      "chi = 5.00e-01\n",
      "beta_r = 1.00e+00\n",
      "beta_z = 1.00e+00\n",
      "phi_0 = 0.00e+00\n",
      "F = -1.00e+00\n",
      "lam_z = 5.00e-01\n",
      "t_start = 1.00e-02\n",
      "t_end = 1.00e+04\n",
      "\n",
      "Computational parameter values\n",
      "-----------------------------------------\n",
      "N = 40\n",
      "Nt = 100\n",
      "t_spacing = log\n",
      "\n"
     ]
    }
   ],
   "source": [
    "pars = uc.parameters.example_parameters.Hydrogel()\n",
    "print(pars)"
   ]
  },
  {
   "cell_type": "markdown",
   "id": "67684de1-22e1-4371-b693-d609941fa87b",
   "metadata": {},
   "source": [
    "Importantly, the parameters above indicate that the initial porosity $\\phi_0$ is **zero** and there are no pre-stretches due to hydration (these pre-stretches correspond to $\\beta_r$ and $\\beta_z$).  These parameters will be computed in Example 2.\n",
    "\n",
    "There are now three components to the model: the mechanics, the permeability, and now the osmotic pressure.  In `ucompress`, an osmotic pressure based on the Flory-Huggins theory of solvent-polymer mixtures as been implemented.  We can therefore define a neo-Hookean hydrogel material with constant permeability as follows:"
   ]
  },
  {
   "cell_type": "code",
   "execution_count": 3,
   "id": "f3fd9edb-ec64-41cf-8112-34785acf7817",
   "metadata": {},
   "outputs": [],
   "source": [
    "# Define the model\n",
    "mech = uc.mechanics.NeoHookean()\n",
    "perm = uc.permeability.Constant()\n",
    "os = uc.osmosis.FloryHuggins()\n",
    "\n",
    "# Build the model\n",
    "model = uc.base_models.Hydrogel(mech, perm, os, pars)"
   ]
  },
  {
   "cell_type": "markdown",
   "id": "fdde1bd1-69d1-4724-ae19-74a1f964029b",
   "metadata": {},
   "source": [
    "Note the use of the `Hydrogel` class rather than the `Poroelastic` class."
   ]
  },
  {
   "cell_type": "markdown",
   "id": "ed212605-a37b-479f-bea5-bc378a57a435",
   "metadata": {},
   "source": [
    "## Example 2 - Computing the freely swollen (hydrated) state"
   ]
  },
  {
   "cell_type": "markdown",
   "id": "326aad1a-e3a2-4f88-958a-e6a4b5de82a5",
   "metadata": {},
   "source": [
    "Before carrying out a time-dependent simulation or computing the instantaneous/equilibrum response, we need to calculate the freely swollen (or hydrated) state.  This is because the governing equations are defined in such a way that deformations are measured relative to freely swollen states.\n",
    "\n",
    "The freely swollen state can be calculated by defining a hydration experiment and then solving for the steady response:"
   ]
  },
  {
   "cell_type": "code",
   "execution_count": 4,
   "id": "33111981-1800-4770-8e99-441c0a228fa2",
   "metadata": {},
   "outputs": [
    {
     "name": "stdout",
     "output_type": "stream",
     "text": [
      "----------------------------------------\n",
      "Hydration step\n",
      "Solver converged\n",
      "Volumetric expansion due to hydration: 18.0037\n",
      "Fluid fraction in hydrated state: 0.9445\n",
      "Radial stretch: 2.6209\n",
      "Axial stretch:  2.6209\n"
     ]
    }
   ],
   "source": [
    "# Define the hydration experiment \n",
    "problem = uc.experiments.Hydration(model, pars)\n",
    "\n",
    "# Solve for the equilibrium state of a freely swollen (hydrated) hydrogel\n",
    "beta_r, beta_z, phi_0 = problem.steady_response()"
   ]
  },
  {
   "cell_type": "markdown",
   "id": "bf7e1d3b-64f1-4794-aa17-78dc8dbea2a9",
   "metadata": {},
   "source": [
    "The `steady_response` method computes and returns the radial and axial stretches due to hydration, $\\beta_r$ and $\\beta_z$ respectively, and the porosity of the hydrogel when freely swollen $\\phi_0$.\n",
    "\n",
    "We now update the entries in the parameter set using these newly computed values.  We then assign the updated parameter set to the model"
   ]
  },
  {
   "cell_type": "code",
   "execution_count": 5,
   "id": "3726cd5f-e5e7-48bd-b3a0-67471667b832",
   "metadata": {},
   "outputs": [],
   "source": [
    "# Update parameter values associated with the hydrated state\n",
    "pars.update('beta_r', beta_r)\n",
    "pars.update('beta_z', beta_z)\n",
    "pars.update('phi_0', phi_0)\n",
    "\n",
    "# Assign new parameters to the model\n",
    "model.assign(pars)"
   ]
  },
  {
   "cell_type": "markdown",
   "id": "dab1cb99-c3d8-4624-a4e1-e0c7309c7ba4",
   "metadata": {},
   "source": [
    "## Example 3 - Unconfined compression of a swollen hydrogel"
   ]
  },
  {
   "cell_type": "markdown",
   "id": "80d32e5f-2ebe-40d1-a6f5-1b6d0ad529f7",
   "metadata": {},
   "source": [
    "Now that we have computed the freely swollen state and updated the parameter values, we can now simulate unconfined compression experiments.  The procedure follows that used for poroelastic materials.  For example, the code below runs a force-controlled experiment:"
   ]
  },
  {
   "cell_type": "code",
   "execution_count": 6,
   "id": "1a119817-56d0-485b-95d6-18cef37fef06",
   "metadata": {},
   "outputs": [
    {
     "name": "stdout",
     "output_type": "stream",
     "text": [
      "--------------------------------\n",
      "Transient step\n",
      "Solver converged\n",
      "Average number of Newton iterations per time step: 2.9\n"
     ]
    },
    {
     "data": {
      "image/png": "[encoded data removed]",
      "text/plain": [
       "<Figure size 640x480 with 1 Axes>"
      ]
     },
     "metadata": {},
     "output_type": "display_data"
    }
   ],
   "source": [
    "# Create a force-controlled experiment\n",
    "problem = uc.experiments.ForceControlled(model, pars)\n",
    "\n",
    "# Increase the convergence tolerance\n",
    "solver_opts = problem.solver_opts\n",
    "solver_opts['rel_tol'] = 1e-6\n",
    "\n",
    "# Solve\n",
    "sol = problem.transient_response()\n",
    "\n",
    "# Plot\n",
    "plt.semilogx(sol.t, sol.lam_z, lw = 2)\n",
    "plt.xlabel('$t$ (s)')\n",
    "plt.ylabel(r'$\\lambda_z$ (-)')\n",
    "plt.show()"
   ]
  }
 ],
 "metadata": {
  "kernelspec": {
   "display_name": "Python 3 (ipykernel)",
   "language": "python",
   "name": "python3"
  },
  "language_info": {
   "codemirror_mode": {
    "name": "ipython",
    "version": 3
   },
   "file_extension": ".py",
   "mimetype": "text/x-python",
   "name": "python",
   "nbconvert_exporter": "python",
   "pygments_lexer": "ipython3",
   "version": "3.12.7"
  }
 },
 "nbformat": 4,
 "nbformat_minor": 5
}
